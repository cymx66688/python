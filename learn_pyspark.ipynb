{
 "cells": [
  {
   "cell_type": "markdown",
   "metadata": {},
   "source": [
    "## 一、载入数据集data"
   ]
  },
  {
   "cell_type": "code",
   "execution_count": 1,
   "metadata": {
    "scrolled": true
   },
   "outputs": [
    {
     "name": "stdout",
     "output_type": "stream",
     "text": [
      "8703\n"
     ]
    }
   ],
   "source": [
    "import time\n",
    "from pyspark.sql import SQLContext\n",
    "from pyspark import SparkContext\n",
    "# 利用spark的csv库直接载入csv格式的数据\n",
    "sc = SparkContext()\n",
    "sqlContext = SQLContext(sc)\n",
    "data = sqlContext.read.format('com.databricks.spark.csv').options(header='true',\n",
    "                                                                  inferschema='true').load('train.csv')\n",
    "# 选10000条数据集，减少运行时间\n",
    "data = data.sample(False, 0.01, 100)\n",
    "print(data.count())"
   ]
  },
  {
   "cell_type": "code",
   "execution_count": 2,
   "metadata": {},
   "outputs": [],
   "source": [
    "# 扩展项\n",
    "# 关闭对象sc，避免重新运行时报错，但是关闭sc后，之后的操作无法运行。\n",
    "# with SparkContext() as sc:\n",
    "#     sqlContext = SQLContext(sc)\n",
    "#     data = sqlContext.read.format('com.databricks.spark.csv').options(header='true',\n",
    "#                                                                   inferschema='true').load('train.csv')\n",
    "#     # 选10000条数据集，减少运行时间\n",
    "#     data = data.sample(False, 0.01, 100)\n",
    "#     print(data.count())"
   ]
  },
  {
   "cell_type": "markdown",
   "metadata": {},
   "source": [
    "### 1.1 除去与需求无关的列"
   ]
  },
  {
   "cell_type": "code",
   "execution_count": 3,
   "metadata": {},
   "outputs": [
    {
     "name": "stdout",
     "output_type": "stream",
     "text": [
      "+---------------+--------------------+\n",
      "|       Category|            Descript|\n",
      "+---------------+--------------------+\n",
      "|  LARCENY/THEFT|GRAND THEFT FROM ...|\n",
      "|  VEHICLE THEFT|   STOLEN AUTOMOBILE|\n",
      "|   NON-CRIMINAL|      FOUND PROPERTY|\n",
      "|SECONDARY CODES|   JUVENILE INVOLVED|\n",
      "| OTHER OFFENSES|DRIVERS LICENSE, ...|\n",
      "+---------------+--------------------+\n",
      "only showing top 5 rows\n",
      "\n"
     ]
    }
   ],
   "source": [
    "# 除去一些不要的列，并展示前五行\n",
    "drop_list = ['Dates', 'DayOfWeek', 'PdDistrict', 'Resolution', 'Address', 'X', 'Y']\n",
    "data = data.select([column for column in data.columns if column not in drop_list])\n",
    "data.show(5)"
   ]
  },
  {
   "cell_type": "markdown",
   "metadata": {},
   "source": [
    "### 1.2 显示数据结构"
   ]
  },
  {
   "cell_type": "code",
   "execution_count": 4,
   "metadata": {},
   "outputs": [
    {
     "name": "stdout",
     "output_type": "stream",
     "text": [
      "root\n",
      " |-- Category: string (nullable = true)\n",
      " |-- Descript: string (nullable = true)\n",
      "\n"
     ]
    }
   ],
   "source": [
    "# 利用printSchema()方法显示数据的结构\n",
    "data.printSchema()"
   ]
  },
  {
   "cell_type": "markdown",
   "metadata": {},
   "source": [
    "### 1.3 查看犯罪类型最多的前20个"
   ]
  },
  {
   "cell_type": "code",
   "execution_count": 5,
   "metadata": {},
   "outputs": [
    {
     "name": "stdout",
     "output_type": "stream",
     "text": [
      "+--------------------+-----+\n",
      "|            Category|count|\n",
      "+--------------------+-----+\n",
      "|       LARCENY/THEFT| 1725|\n",
      "|      OTHER OFFENSES| 1230|\n",
      "|        NON-CRIMINAL|  962|\n",
      "|             ASSAULT|  763|\n",
      "|       VEHICLE THEFT|  541|\n",
      "|       DRUG/NARCOTIC|  494|\n",
      "|           VANDALISM|  447|\n",
      "|            WARRANTS|  406|\n",
      "|            BURGLARY|  347|\n",
      "|      SUSPICIOUS OCC|  295|\n",
      "|      MISSING PERSON|  284|\n",
      "|             ROBBERY|  225|\n",
      "|               FRAUD|  159|\n",
      "|     SECONDARY CODES|  124|\n",
      "|FORGERY/COUNTERFE...|  109|\n",
      "|         WEAPON LAWS|   86|\n",
      "|            TRESPASS|   63|\n",
      "|        PROSTITUTION|   59|\n",
      "|  DISORDERLY CONDUCT|   54|\n",
      "|         DRUNKENNESS|   52|\n",
      "+--------------------+-----+\n",
      "only showing top 20 rows\n",
      "\n"
     ]
    }
   ],
   "source": [
    "# 包含数量最多的20类犯罪\n",
    "from pyspark.sql.functions import col\n",
    "data.groupBy('Category').count().orderBy(col('count').desc()).show()"
   ]
  },
  {
   "cell_type": "markdown",
   "metadata": {},
   "source": [
    "### 1.4 查看犯罪描述最多的前20个"
   ]
  },
  {
   "cell_type": "code",
   "execution_count": 6,
   "metadata": {},
   "outputs": [
    {
     "name": "stdout",
     "output_type": "stream",
     "text": [
      "+--------------------+-----+\n",
      "|            Descript|count|\n",
      "+--------------------+-----+\n",
      "|GRAND THEFT FROM ...|  569|\n",
      "|       LOST PROPERTY|  323|\n",
      "|             BATTERY|  301|\n",
      "|   STOLEN AUTOMOBILE|  262|\n",
      "|DRIVERS LICENSE, ...|  244|\n",
      "|AIDED CASE, MENTA...|  223|\n",
      "|      WARRANT ARREST|  222|\n",
      "|PETTY THEFT FROM ...|  216|\n",
      "|SUSPICIOUS OCCURR...|  211|\n",
      "|MALICIOUS MISCHIE...|  184|\n",
      "|   TRAFFIC VIOLATION|  168|\n",
      "|THREATS AGAINST LIFE|  154|\n",
      "|PETTY THEFT OF PR...|  152|\n",
      "|      FOUND PROPERTY|  138|\n",
      "|MALICIOUS MISCHIE...|  138|\n",
      "|ENROUTE TO OUTSID...|  121|\n",
      "|GRAND THEFT OF PR...|  115|\n",
      "|MISCELLANEOUS INV...|  101|\n",
      "|   DOMESTIC VIOLENCE|   99|\n",
      "|        FOUND PERSON|   98|\n",
      "+--------------------+-----+\n",
      "only showing top 20 rows\n",
      "\n"
     ]
    }
   ],
   "source": [
    "# 包含犯罪数量最多的20个描述\n",
    "data.groupBy('Descript').count().orderBy(col('count').desc()).show()"
   ]
  },
  {
   "cell_type": "markdown",
   "metadata": {},
   "source": [
    "## 二、对犯罪描述进行分词"
   ]
  },
  {
   "cell_type": "markdown",
   "metadata": {},
   "source": [
    "### 2.1 对Descript分词，先切分单词，再删除停用词"
   ]
  },
  {
   "cell_type": "markdown",
   "metadata": {},
   "source": [
    "流程和scikit-learn版本的很相似，包含3个步骤：   \n",
    "1.regexTokenizer: 利用正则切分单词   \n",
    "2.stopwordsRemover: 移除停用词   \n",
    "3.countVectors: 构建词频向量   "
   ]
  },
  {
   "cell_type": "markdown",
   "metadata": {},
   "source": [
    "RegexTokenizer：基于正则的方式进行文档切分成单词组\n",
    "inputCol: 输入字段  \n",
    "outputCol: 输出字段  \n",
    "pattern： 匹配模式，根据匹配到的内容切分单词   "
   ]
  },
  {
   "cell_type": "markdown",
   "metadata": {},
   "source": [
    "CountVectorizer：构建词频向量   \n",
    "covabSize: 限制的词频数   \n",
    "minDF：如果是float，则表示出现的百分比小于minDF,不会被当做关键词  \n",
    "       如果是int，则表示出现是次数小于minDF，不会被当做关键词  "
   ]
  },
  {
   "cell_type": "code",
   "execution_count": 7,
   "metadata": {},
   "outputs": [],
   "source": [
    "from pyspark.ml.feature import RegexTokenizer, StopWordsRemover, CountVectorizer\n",
    "from pyspark.ml.classification import LogisticRegression\n",
    "\n",
    "# 正则切分单词\n",
    "# inputCol:输入字段名\n",
    "# outputCol:输出字段名\n",
    "regexTokenizer = RegexTokenizer(inputCol='Descript', outputCol='words', pattern='\\\\W')\n",
    "# 停用词\n",
    "add_stopwords = ['http', 'https', 'amp', 'rt', 't', 'c', 'the']\n",
    "stopwords_remover = StopWordsRemover(inputCol='words', outputCol='filtered').setStopWords(add_stopwords)\n",
    "# 构建词频向量\n",
    "count_vectors = CountVectorizer(inputCol='filtered', outputCol='features', vocabSize=10000, minDF=5)"
   ]
  },
  {
   "cell_type": "markdown",
   "metadata": {},
   "source": [
    "### 2.2 对分词后的词频率排序，最频繁出现的设置为0 "
   ]
  },
  {
   "cell_type": "markdown",
   "metadata": {},
   "source": [
    "### StringIndexer\n",
    "StringIndexer将一列字符串label编码为一列索引号，根据label出现的频率排序，最频繁出现的label的index为0  \n",
    "该例子中，label会被编码成从0-32的整数，最频繁的label被编码成0 \n",
    "    \n",
    "Pipeline是基于DataFrame的高层API，可以方便用户构建和调试机器学习流水线，可以使得多个机器学习算法顺序执行，达到高效的数据处理的目的。  \n",
    "   \n",
    "fit():将DataFrame转换成一个Transformer的算法，将label列转化为特征向量   \n",
    "transform(): 将特征向量作为新列添加到DataFrame    "
   ]
  },
  {
   "cell_type": "code",
   "execution_count": 8,
   "metadata": {},
   "outputs": [
    {
     "name": "stdout",
     "output_type": "stream",
     "text": [
      "+---------------+--------------------+--------------------+--------------------+--------------------+-----+\n",
      "|       Category|            Descript|               words|            filtered|            features|label|\n",
      "+---------------+--------------------+--------------------+--------------------+--------------------+-----+\n",
      "|  LARCENY/THEFT|GRAND THEFT FROM ...|[grand, theft, fr...|[grand, theft, fr...|(309,[0,2,3,4,6],...|  0.0|\n",
      "|  VEHICLE THEFT|   STOLEN AUTOMOBILE|[stolen, automobile]|[stolen, automobile]|(309,[9,27],[1.0,...|  4.0|\n",
      "|   NON-CRIMINAL|      FOUND PROPERTY|   [found, property]|   [found, property]|(309,[5,32],[1.0,...|  2.0|\n",
      "|SECONDARY CODES|   JUVENILE INVOLVED|[juvenile, involved]|[juvenile, involved]|(309,[67,218],[1....| 13.0|\n",
      "| OTHER OFFENSES|DRIVERS LICENSE, ...|[drivers, license...|[drivers, license...|(309,[14,23,28,30...|  1.0|\n",
      "+---------------+--------------------+--------------------+--------------------+--------------------+-----+\n",
      "only showing top 5 rows\n",
      "\n"
     ]
    }
   ],
   "source": [
    "from pyspark.ml import Pipeline\n",
    "from pyspark.ml.feature import OneHotEncoder, StringIndexer, VectorAssembler\n",
    "label_stringIdx = StringIndexer(inputCol='Category', outputCol='label')\n",
    "pipeline = Pipeline(stages=[regexTokenizer, stopwords_remover, count_vectors, label_stringIdx])\n",
    "# fit the pipeline to training documents\n",
    "pipeline_fit = pipeline.fit(data)\n",
    "dataset = pipeline_fit.transform(data)\n",
    "dataset.show(5)"
   ]
  },
  {
   "cell_type": "markdown",
   "metadata": {},
   "source": [
    "### 三、训练/测试集划分"
   ]
  },
  {
   "cell_type": "code",
   "execution_count": 9,
   "metadata": {},
   "outputs": [
    {
     "name": "stdout",
     "output_type": "stream",
     "text": [
      "Training Dataset Count:6117\n",
      "Test Dataset Count:2586\n"
     ]
    }
   ],
   "source": [
    "# set seed for reproducibility\n",
    "# 数据集划分训练集和测试集，比例7:3， 设置随机种子100\n",
    "(trainingData, testData) = dataset.randomSplit([0.7, 0.3], seed=100)\n",
    "print('Training Dataset Count:{}'.format(trainingData.count()))\n",
    "print('Test Dataset Count:{}'.format(testData.count()))"
   ]
  },
  {
   "cell_type": "markdown",
   "metadata": {},
   "source": [
    "### 四、模型训练和评价"
   ]
  },
  {
   "cell_type": "markdown",
   "metadata": {},
   "source": [
    "#### 1.以词频作为特征，利用逻辑回归进行分类"
   ]
  },
  {
   "cell_type": "markdown",
   "metadata": {},
   "source": [
    "模型在测试集上预测和打分，查看10个预测概率值最高的结果："
   ]
  },
  {
   "cell_type": "markdown",
   "metadata": {},
   "source": [
    "LogisticRegression：逻辑回归模型   \n",
    "maxIter：最大迭代次数   \n",
    "regParam：正则化参数    \n",
    "elasticNetParam：正则化。0：l1;1:l2   "
   ]
  },
  {
   "cell_type": "code",
   "execution_count": 12,
   "metadata": {},
   "outputs": [
    {
     "name": "stdout",
     "output_type": "stream",
     "text": [
      "+--------------------------+--------+------------------------------+-----+----------+\n",
      "|                  Descript|Category|                   probability|label|prediction|\n",
      "+--------------------------+--------+------------------------------+-----+----------+\n",
      "|        ARSON OF A VEHICLE|   ARSON|[0.1194196587417514,0.10724...| 26.0|       0.0|\n",
      "|        ARSON OF A VEHICLE|   ARSON|[0.1194196587417514,0.10724...| 26.0|       0.0|\n",
      "|        ARSON OF A VEHICLE|   ARSON|[0.1194196587417514,0.10724...| 26.0|       0.0|\n",
      "|           ATTEMPTED ARSON|   ARSON|[0.12978385966276762,0.1084...| 26.0|       0.0|\n",
      "|     CREDIT CARD, THEFT OF|   FRAUD|[0.21637136655265077,0.0836...| 12.0|       0.0|\n",
      "|     CREDIT CARD, THEFT OF|   FRAUD|[0.21637136655265077,0.0836...| 12.0|       0.0|\n",
      "|     CREDIT CARD, THEFT OF|   FRAUD|[0.21637136655265077,0.0836...| 12.0|       0.0|\n",
      "|     CREDIT CARD, THEFT OF|   FRAUD|[0.21637136655265077,0.0836...| 12.0|       0.0|\n",
      "|     CREDIT CARD, THEFT OF|   FRAUD|[0.21637136655265077,0.0836...| 12.0|       0.0|\n",
      "|ARSON OF A VACANT BUILDING|   ARSON|[0.22897903829071928,0.0980...| 26.0|       0.0|\n",
      "+--------------------------+--------+------------------------------+-----+----------+\n",
      "only showing top 10 rows\n",
      "\n"
     ]
    }
   ],
   "source": [
    "start_time = time.time()\n",
    "lr = LogisticRegression(maxIter=20, regParam=0.3, elasticNetParam=0)\n",
    "lrModel = lr.fit(trainingData)\n",
    "predictions = lrModel.transform(testData)\n",
    "# 过滤prediction类别为0数据集\n",
    "predictions.filter(predictions['prediction'] == 0).select('Descript', 'Category', 'probability', 'label', 'prediction').orderBy('probability', accending=False).show(n=10, truncate=30)"
   ]
  },
  {
   "cell_type": "code",
   "execution_count": 13,
   "metadata": {},
   "outputs": [
    {
     "name": "stdout",
     "output_type": "stream",
     "text": [
      "0.9641817609126011\n",
      "8.245999813079834\n"
     ]
    }
   ],
   "source": [
    "from pyspark.ml.evaluation import MulticlassClassificationEvaluator\n",
    "# predictionCol: 预测列的名称\n",
    "evaluator = MulticlassClassificationEvaluator(predictionCol='prediction')\n",
    "# 预测准确率\n",
    "print(evaluator.evaluate(predictions))\n",
    "end_time = time.time()\n",
    "print(end_time - start_time)"
   ]
  },
  {
   "cell_type": "markdown",
   "metadata": {},
   "source": [
    "#### 2.以TF-ID作为特征，利用逻辑回归进行分类"
   ]
  },
  {
   "cell_type": "code",
   "execution_count": 14,
   "metadata": {},
   "outputs": [
    {
     "name": "stdout",
     "output_type": "stream",
     "text": [
      "+----------------------------+-------------+------------------------------+-----+----------+\n",
      "|                    Descript|     Category|                   probability|label|prediction|\n",
      "+----------------------------+-------------+------------------------------+-----+----------+\n",
      "|PETTY THEFT FROM LOCKED AUTO|LARCENY/THEFT|[0.865376337558355,0.018892...|  0.0|       0.0|\n",
      "|PETTY THEFT FROM LOCKED AUTO|LARCENY/THEFT|[0.865376337558355,0.018892...|  0.0|       0.0|\n",
      "|PETTY THEFT FROM LOCKED AUTO|LARCENY/THEFT|[0.865376337558355,0.018892...|  0.0|       0.0|\n",
      "|PETTY THEFT FROM LOCKED AUTO|LARCENY/THEFT|[0.865376337558355,0.018892...|  0.0|       0.0|\n",
      "|PETTY THEFT FROM LOCKED AUTO|LARCENY/THEFT|[0.865376337558355,0.018892...|  0.0|       0.0|\n",
      "|PETTY THEFT FROM LOCKED AUTO|LARCENY/THEFT|[0.865376337558355,0.018892...|  0.0|       0.0|\n",
      "|PETTY THEFT FROM LOCKED AUTO|LARCENY/THEFT|[0.865376337558355,0.018892...|  0.0|       0.0|\n",
      "|PETTY THEFT FROM LOCKED AUTO|LARCENY/THEFT|[0.865376337558355,0.018892...|  0.0|       0.0|\n",
      "|PETTY THEFT FROM LOCKED AUTO|LARCENY/THEFT|[0.865376337558355,0.018892...|  0.0|       0.0|\n",
      "|PETTY THEFT FROM LOCKED AUTO|LARCENY/THEFT|[0.865376337558355,0.018892...|  0.0|       0.0|\n",
      "+----------------------------+-------------+------------------------------+-----+----------+\n",
      "only showing top 10 rows\n",
      "\n"
     ]
    }
   ],
   "source": [
    "from pyspark.ml.feature import HashingTF, IDF\n",
    "start_time = time.time()\n",
    "# numFeatures: 最大特征数\n",
    "hashingTF = HashingTF(inputCol='filtered', outputCol='rawFeatures', numFeatures=10000)\n",
    "# minDocFreq：过滤的最少文档数量\n",
    "idf = IDF(inputCol='rawFeatures', outputCol='features', minDocFreq=5)\n",
    "pipeline = Pipeline(stages=[regexTokenizer, stopwords_remover, hashingTF, idf, label_stringIdx])\n",
    "pipeline_fit = pipeline.fit(data)\n",
    "dataset = pipeline_fit.transform(data)\n",
    "(trainingData, testData) = dataset.randomSplit([0.7, 0.3], seed=100)\n",
    "\n",
    "lr = LogisticRegression(maxIter=20, regParam=0.3, elasticNetParam=0)\n",
    "lr_model = lr.fit(trainingData)\n",
    "predictions = lr_model.transform(testData)\n",
    "predictions.filter(predictions['prediction'] == 0).select('Descript', 'Category', 'probability', 'label', 'prediction').\\\n",
    "orderBy('probability', ascending=False).show(n=10, truncate=30)"
   ]
  },
  {
   "cell_type": "code",
   "execution_count": 15,
   "metadata": {},
   "outputs": [
    {
     "name": "stdout",
     "output_type": "stream",
     "text": [
      "0.9653361434618551\n",
      "12.998999834060669\n"
     ]
    }
   ],
   "source": [
    "evaluator = MulticlassClassificationEvaluator(predictionCol='prediction')\n",
    "print(evaluator.evaluate(predictions))\n",
    "end_time = time.time()\n",
    "print(end_time - start_time)"
   ]
  },
  {
   "cell_type": "markdown",
   "metadata": {},
   "source": [
    "#### 3.交叉验证"
   ]
  },
  {
   "cell_type": "markdown",
   "metadata": {},
   "source": [
    "用交叉验证来优化参数，这里针对基于词频特征的逻辑回归模型进行优化"
   ]
  },
  {
   "cell_type": "code",
   "execution_count": 16,
   "metadata": {},
   "outputs": [
    {
     "name": "stdout",
     "output_type": "stream",
     "text": [
      "0.9807684755923513\n",
      "368.97300004959106\n"
     ]
    }
   ],
   "source": [
    "from pyspark.ml.tuning import ParamGridBuilder, CrossValidator\n",
    "start_time = time.time()\n",
    "pipeline = Pipeline(stages=[regexTokenizer, stopwords_remover, count_vectors, label_stringIdx])\n",
    "pipeline_fit = pipeline.fit(data)\n",
    "(trainingData, testData) = dataset.randomSplit([0.7, 0.3], seed=100)\n",
    "lr = LogisticRegression(maxIter=20, regParam=0.3, elasticNetParam=0)\n",
    "# 为交叉验证创建参数\n",
    "# ParamGridBuilder：用于基于网格搜索的模型选择的参数网格的生成器\n",
    "# addGrid：将网格中给定参数设置为固定值\n",
    "# parameter：正则化参数\n",
    "# maxIter：迭代次数\n",
    "# numFeatures：特征值\n",
    "paramGrid = (ParamGridBuilder()\n",
    "             .addGrid(lr.regParam, [0.1, 0.3, 0.5])\n",
    "             .addGrid(lr.elasticNetParam, [0.0, 0.1, 0.2])\n",
    "             .addGrid(lr.maxIter, [10, 20, 50])\n",
    "#              .addGrid(idf.numFeatures, [10, 100, 1000])\n",
    "             .build())\n",
    "\n",
    "# 创建五折交叉验证\n",
    "# estimator：要交叉验证的估计器\n",
    "# estimatorParamMaps：网格搜索的最优参数\n",
    "# evaluator：评估器\n",
    "# numFolds：交叉次数\n",
    "cv = CrossValidator(estimator=lr,\\\n",
    "                   estimatorParamMaps=paramGrid,\\\n",
    "                   evaluator=evaluator,\\\n",
    "                   numFolds=5)\n",
    "cv_model = cv.fit(trainingData)\n",
    "predictions = cv_model.transform(testData)\n",
    "\n",
    "# 模型评估\n",
    "evaluator = MulticlassClassificationEvaluator(predictionCol='prediction')\n",
    "print(evaluator.evaluate(predictions))\n",
    "end_time = time.time()\n",
    "print(end_time - start_time)"
   ]
  },
  {
   "cell_type": "markdown",
   "metadata": {},
   "source": [
    "#### 4.朴素贝叶斯"
   ]
  },
  {
   "cell_type": "code",
   "execution_count": 17,
   "metadata": {},
   "outputs": [
    {
     "name": "stdout",
     "output_type": "stream",
     "text": [
      "+----------------------+-------------+------------------------------+-----+----------+\n",
      "|              Descript|     Category|                   probability|label|prediction|\n",
      "+----------------------+-------------+------------------------------+-----+----------+\n",
      "|   PETTY THEFT BICYCLE|LARCENY/THEFT|[1.0,1.236977662838925E-20,...|  0.0|       0.0|\n",
      "|   PETTY THEFT BICYCLE|LARCENY/THEFT|[1.0,1.236977662838925E-20,...|  0.0|       0.0|\n",
      "|   PETTY THEFT BICYCLE|LARCENY/THEFT|[1.0,1.236977662838925E-20,...|  0.0|       0.0|\n",
      "|GRAND THEFT PICKPOCKET|LARCENY/THEFT|[1.0,7.699728277574397E-24,...|  0.0|       0.0|\n",
      "|GRAND THEFT PICKPOCKET|LARCENY/THEFT|[1.0,7.699728277574397E-24,...|  0.0|       0.0|\n",
      "|GRAND THEFT PICKPOCKET|LARCENY/THEFT|[1.0,7.699728277574397E-24,...|  0.0|       0.0|\n",
      "|GRAND THEFT PICKPOCKET|LARCENY/THEFT|[1.0,7.699728277574397E-24,...|  0.0|       0.0|\n",
      "|GRAND THEFT PICKPOCKET|LARCENY/THEFT|[1.0,7.699728277574397E-24,...|  0.0|       0.0|\n",
      "|GRAND THEFT PICKPOCKET|LARCENY/THEFT|[1.0,7.699728277574397E-24,...|  0.0|       0.0|\n",
      "|GRAND THEFT PICKPOCKET|LARCENY/THEFT|[1.0,7.699728277574397E-24,...|  0.0|       0.0|\n",
      "+----------------------+-------------+------------------------------+-----+----------+\n",
      "only showing top 10 rows\n",
      "\n"
     ]
    }
   ],
   "source": [
    "from pyspark.ml.classification import NaiveBayes\n",
    "start_time = time.time()\n",
    "# smoothing：平滑参数\n",
    "nb = NaiveBayes(smoothing=1)\n",
    "model = nb.fit(trainingData)\n",
    "predictions = model.transform(testData)\n",
    "predictions.filter(predictions['prediction'] == 0) \\\n",
    "    .select('Descript', 'Category', 'probability', 'label', 'prediction') \\\n",
    "    .orderBy('probability', ascending=False) \\\n",
    "    .show(n=10, truncate=30)"
   ]
  },
  {
   "cell_type": "code",
   "execution_count": 18,
   "metadata": {},
   "outputs": [
    {
     "name": "stdout",
     "output_type": "stream",
     "text": [
      "0.977432832447723\n",
      "5.371000051498413\n"
     ]
    }
   ],
   "source": [
    "evaluator = MulticlassClassificationEvaluator(predictionCol='prediction')\n",
    "print(evaluator.evaluate(predictions))\n",
    "end_time = time.time()\n",
    "print(end_time - start_time)"
   ]
  },
  {
   "cell_type": "markdown",
   "metadata": {},
   "source": [
    "#### 5.随机森林"
   ]
  },
  {
   "cell_type": "code",
   "execution_count": 19,
   "metadata": {},
   "outputs": [
    {
     "name": "stdout",
     "output_type": "stream",
     "text": [
      "+----------------------------+-------------+------------------------------+-----+----------+\n",
      "|                    Descript|     Category|                   probability|label|prediction|\n",
      "+----------------------------+-------------+------------------------------+-----+----------+\n",
      "|PETTY THEFT FROM LOCKED AUTO|LARCENY/THEFT|[0.33206188381818563,0.1168...|  0.0|       0.0|\n",
      "|PETTY THEFT FROM LOCKED AUTO|LARCENY/THEFT|[0.33206188381818563,0.1168...|  0.0|       0.0|\n",
      "|PETTY THEFT FROM LOCKED AUTO|LARCENY/THEFT|[0.33206188381818563,0.1168...|  0.0|       0.0|\n",
      "|PETTY THEFT FROM LOCKED AUTO|LARCENY/THEFT|[0.33206188381818563,0.1168...|  0.0|       0.0|\n",
      "|PETTY THEFT FROM LOCKED AUTO|LARCENY/THEFT|[0.33206188381818563,0.1168...|  0.0|       0.0|\n",
      "|PETTY THEFT FROM LOCKED AUTO|LARCENY/THEFT|[0.33206188381818563,0.1168...|  0.0|       0.0|\n",
      "|PETTY THEFT FROM LOCKED AUTO|LARCENY/THEFT|[0.33206188381818563,0.1168...|  0.0|       0.0|\n",
      "|PETTY THEFT FROM LOCKED AUTO|LARCENY/THEFT|[0.33206188381818563,0.1168...|  0.0|       0.0|\n",
      "|PETTY THEFT FROM LOCKED AUTO|LARCENY/THEFT|[0.33206188381818563,0.1168...|  0.0|       0.0|\n",
      "|PETTY THEFT FROM LOCKED AUTO|LARCENY/THEFT|[0.33206188381818563,0.1168...|  0.0|       0.0|\n",
      "+----------------------------+-------------+------------------------------+-----+----------+\n",
      "only showing top 10 rows\n",
      "\n"
     ]
    }
   ],
   "source": [
    "from pyspark.ml.classification import RandomForestClassifier\n",
    "start_time = time.time()\n",
    "# numTree：训练树的个数\n",
    "# maxDepth：最大深度\n",
    "# maxBins：连续特征离散化的最大分类数\n",
    "rf = RandomForestClassifier(labelCol='label', \\\n",
    "                            featuresCol='features', \\\n",
    "                            numTrees=100, \\\n",
    "                            maxDepth=4, \\\n",
    "                            maxBins=32)\n",
    "# Train model with Training Data\n",
    "rfModel = rf.fit(trainingData)\n",
    "predictions = rfModel.transform(testData)\n",
    "predictions.filter(predictions['prediction'] == 0) \\\n",
    "    .select('Descript','Category','probability','label','prediction') \\\n",
    "    .orderBy('probability', ascending=False) \\\n",
    "    .show(n = 10, truncate = 30)"
   ]
  },
  {
   "cell_type": "code",
   "execution_count": 20,
   "metadata": {},
   "outputs": [
    {
     "name": "stdout",
     "output_type": "stream",
     "text": [
      "0.27929770811242954\n",
      "36.63699984550476\n"
     ]
    }
   ],
   "source": [
    "evaluator = MulticlassClassificationEvaluator(predictionCol='prediction')\n",
    "print(evaluator.evaluate(predictions))\n",
    "end_time = time.time()\n",
    "print(end_time - start_time)"
   ]
  },
  {
   "cell_type": "markdown",
   "metadata": {},
   "source": [
    "上面的结果可以看出：随机森林是优秀的、鲁棒的通用模型，但对于高维稀疏数据来说，并不是一个很好的选择。  \n",
    "明显，选择使用交叉验证的逻辑回归"
   ]
  },
  {
   "cell_type": "code",
   "execution_count": null,
   "metadata": {},
   "outputs": [],
   "source": []
  }
 ],
 "metadata": {
  "kernelspec": {
   "display_name": "Python 3",
   "language": "python",
   "name": "python3"
  },
  "language_info": {
   "codemirror_mode": {
    "name": "ipython",
    "version": 3
   },
   "file_extension": ".py",
   "mimetype": "text/x-python",
   "name": "python",
   "nbconvert_exporter": "python",
   "pygments_lexer": "ipython3",
   "version": "3.6.4"
  }
 },
 "nbformat": 4,
 "nbformat_minor": 2
}
